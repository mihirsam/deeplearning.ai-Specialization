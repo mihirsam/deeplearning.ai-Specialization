{
 "cells": [
  {
   "cell_type": "code",
   "execution_count": 1,
   "metadata": {},
   "outputs": [],
   "source": [
    "import numpy as np"
   ]
  },
  {
   "cell_type": "code",
   "execution_count": 19,
   "metadata": {
    "scrolled": true
   },
   "outputs": [
    {
     "name": "stdout",
     "output_type": "stream",
     "text": [
      "[[0.65973071 5.07577151 1.25994188]\n",
      " [4.13516593 5.53287576 9.63657283]\n",
      " [7.05062748 8.5757182  4.09453489]\n",
      " [3.50875331 3.1941478  8.4656868 ]] \n",
      "\n",
      "\n",
      " [[3.47679732 9.67693766]\n",
      " [3.65020481 7.93422033]\n",
      " [0.9713191  0.58884287]]\n"
     ]
    }
   ],
   "source": [
    "arr1 = np.random.rand(4, 3) * 10\n",
    "arr2 = np.random.rand(3, 2) * 10\n",
    "print(arr1,\"\\n\\n\\n\", arr2)"
   ]
  },
  {
   "cell_type": "code",
   "execution_count": 20,
   "metadata": {},
   "outputs": [
    {
     "data": {
      "text/plain": [
       "array([[0.65973071, 4.13516593, 7.05062748, 3.50875331],\n",
       "       [5.07577151, 5.53287576, 8.5757182 , 3.1941478 ],\n",
       "       [1.25994188, 9.63657283, 4.09453489, 8.4656868 ]])"
      ]
     },
     "execution_count": 20,
     "metadata": {},
     "output_type": "execute_result"
    }
   ],
   "source": [
    "arr1.T"
   ]
  },
  {
   "cell_type": "code",
   "execution_count": 25,
   "metadata": {},
   "outputs": [
    {
     "data": {
      "text/plain": [
       "12"
      ]
     },
     "execution_count": 25,
     "metadata": {},
     "output_type": "execute_result"
    }
   ],
   "source": [
    "arr1.size"
   ]
  },
  {
   "cell_type": "code",
   "execution_count": 18,
   "metadata": {
    "scrolled": true
   },
   "outputs": [
    {
     "data": {
      "text/plain": [
       "array([[1.38876557, 1.76923399],\n",
       "       [1.18190986, 1.55822962]])"
      ]
     },
     "execution_count": 18,
     "metadata": {},
     "output_type": "execute_result"
    }
   ],
   "source": [
    "np.dot(arr1, arr2)"
   ]
  },
  {
   "cell_type": "code",
   "execution_count": 21,
   "metadata": {
    "scrolled": true
   },
   "outputs": [
    {
     "data": {
      "text/plain": [
       "array([[1.98349175, 1.87612857],\n",
       "       [1.78314298, 1.88762465],\n",
       "       [1.83209193, 1.47910331]])"
      ]
     },
     "execution_count": 21,
     "metadata": {},
     "output_type": "execute_result"
    }
   ],
   "source": [
    "np.transpose(arr1) + 1"
   ]
  },
  {
   "cell_type": "code",
   "execution_count": 29,
   "metadata": {},
   "outputs": [
    {
     "name": "stdout",
     "output_type": "stream",
     "text": [
      "[[0 3 4]\n",
      " [2 6 4]]\n"
     ]
    }
   ],
   "source": [
    "x = np.array([[0, 3, 4], [2, 6, 4]])\n",
    "print(x)\n",
    "x_ = np.linalg.norm(x,axis=1,keepdims=True)"
   ]
  },
  {
   "cell_type": "code",
   "execution_count": 30,
   "metadata": {},
   "outputs": [
    {
     "data": {
      "text/plain": [
       "array([[0.        , 0.6       , 0.8       ],\n",
       "       [0.26726124, 0.80178373, 0.53452248]])"
      ]
     },
     "execution_count": 30,
     "metadata": {},
     "output_type": "execute_result"
    }
   ],
   "source": [
    "x / x_"
   ]
  },
  {
   "cell_type": "code",
   "execution_count": 31,
   "metadata": {},
   "outputs": [
    {
     "data": {
      "text/plain": [
       "19"
      ]
     },
     "execution_count": 31,
     "metadata": {},
     "output_type": "execute_result"
    }
   ],
   "source": [
    "np.sum(x)"
   ]
  },
  {
   "cell_type": "code",
   "execution_count": 34,
   "metadata": {},
   "outputs": [
    {
     "name": "stdout",
     "output_type": "stream",
     "text": [
      "[[[5.73047621e-01 5.55961104e-01 7.57362721e-01 7.27343620e-01\n",
      "   5.30479251e-01]\n",
      "  [1.08622829e-01 9.42169833e-01 8.42748444e-01 9.52349672e-01\n",
      "   4.32703208e-01]\n",
      "  [4.95927542e-04 9.73078528e-01 5.41660207e-01 9.12003439e-01\n",
      "   6.99799049e-01]\n",
      "  [2.89238084e-01 5.47292992e-01 9.94240981e-01 4.05982934e-01\n",
      "   6.75650272e-02]]\n",
      "\n",
      " [[9.91814225e-01 5.24535406e-01 7.10928092e-01 1.19816950e-01\n",
      "   2.61790777e-01]\n",
      "  [7.80568351e-02 3.20000270e-02 2.75277808e-01 2.74660421e-01\n",
      "   4.41657893e-01]\n",
      "  [4.28232124e-01 4.23017126e-01 3.76839025e-01 5.73320659e-01\n",
      "   8.52063899e-01]\n",
      "  [5.96576028e-01 6.18769049e-01 6.20004854e-01 1.41432261e-02\n",
      "   5.04007416e-01]]\n",
      "\n",
      " [[8.06035715e-01 6.34188199e-01 7.31713037e-02 9.73583745e-01\n",
      "   1.87023545e-01]\n",
      "  [8.09089634e-05 2.80487661e-02 7.60860116e-01 8.42546697e-01\n",
      "   3.07085137e-01]\n",
      "  [5.14716754e-01 1.20572346e-01 8.84850422e-01 7.83667692e-01\n",
      "   8.54388740e-01]\n",
      "  [2.74496033e-01 6.66304931e-01 6.53711950e-01 4.66133110e-02\n",
      "   6.12656019e-01]]]\n"
     ]
    }
   ],
   "source": [
    "x_new = np.random.rand(3, 4, 5)\n",
    "print(x_new)"
   ]
  },
  {
   "cell_type": "code",
   "execution_count": 37,
   "metadata": {},
   "outputs": [
    {
     "data": {
      "text/plain": [
       "array([[5.73047621e-01, 5.55961104e-01, 7.57362721e-01, 7.27343620e-01,\n",
       "        5.30479251e-01, 1.08622829e-01, 9.42169833e-01, 8.42748444e-01,\n",
       "        9.52349672e-01, 4.32703208e-01, 4.95927542e-04, 9.73078528e-01,\n",
       "        5.41660207e-01, 9.12003439e-01, 6.99799049e-01, 2.89238084e-01,\n",
       "        5.47292992e-01, 9.94240981e-01, 4.05982934e-01, 6.75650272e-02],\n",
       "       [9.91814225e-01, 5.24535406e-01, 7.10928092e-01, 1.19816950e-01,\n",
       "        2.61790777e-01, 7.80568351e-02, 3.20000270e-02, 2.75277808e-01,\n",
       "        2.74660421e-01, 4.41657893e-01, 4.28232124e-01, 4.23017126e-01,\n",
       "        3.76839025e-01, 5.73320659e-01, 8.52063899e-01, 5.96576028e-01,\n",
       "        6.18769049e-01, 6.20004854e-01, 1.41432261e-02, 5.04007416e-01],\n",
       "       [8.06035715e-01, 6.34188199e-01, 7.31713037e-02, 9.73583745e-01,\n",
       "        1.87023545e-01, 8.09089634e-05, 2.80487661e-02, 7.60860116e-01,\n",
       "        8.42546697e-01, 3.07085137e-01, 5.14716754e-01, 1.20572346e-01,\n",
       "        8.84850422e-01, 7.83667692e-01, 8.54388740e-01, 2.74496033e-01,\n",
       "        6.66304931e-01, 6.53711950e-01, 4.66133110e-02, 6.12656019e-01]])"
      ]
     },
     "execution_count": 37,
     "metadata": {},
     "output_type": "execute_result"
    }
   ],
   "source": [
    "x_new.reshape(x_new.shape[0], -1)"
   ]
  },
  {
   "cell_type": "code",
   "execution_count": 38,
   "metadata": {},
   "outputs": [
    {
     "data": {
      "text/plain": [
       "array([[[5.73047621e-01, 9.91814225e-01, 8.06035715e-01],\n",
       "        [1.08622829e-01, 7.80568351e-02, 8.09089634e-05],\n",
       "        [4.95927542e-04, 4.28232124e-01, 5.14716754e-01],\n",
       "        [2.89238084e-01, 5.96576028e-01, 2.74496033e-01]],\n",
       "\n",
       "       [[5.55961104e-01, 5.24535406e-01, 6.34188199e-01],\n",
       "        [9.42169833e-01, 3.20000270e-02, 2.80487661e-02],\n",
       "        [9.73078528e-01, 4.23017126e-01, 1.20572346e-01],\n",
       "        [5.47292992e-01, 6.18769049e-01, 6.66304931e-01]],\n",
       "\n",
       "       [[7.57362721e-01, 7.10928092e-01, 7.31713037e-02],\n",
       "        [8.42748444e-01, 2.75277808e-01, 7.60860116e-01],\n",
       "        [5.41660207e-01, 3.76839025e-01, 8.84850422e-01],\n",
       "        [9.94240981e-01, 6.20004854e-01, 6.53711950e-01]],\n",
       "\n",
       "       [[7.27343620e-01, 1.19816950e-01, 9.73583745e-01],\n",
       "        [9.52349672e-01, 2.74660421e-01, 8.42546697e-01],\n",
       "        [9.12003439e-01, 5.73320659e-01, 7.83667692e-01],\n",
       "        [4.05982934e-01, 1.41432261e-02, 4.66133110e-02]],\n",
       "\n",
       "       [[5.30479251e-01, 2.61790777e-01, 1.87023545e-01],\n",
       "        [4.32703208e-01, 4.41657893e-01, 3.07085137e-01],\n",
       "        [6.99799049e-01, 8.52063899e-01, 8.54388740e-01],\n",
       "        [6.75650272e-02, 5.04007416e-01, 6.12656019e-01]]])"
      ]
     },
     "execution_count": 38,
     "metadata": {},
     "output_type": "execute_result"
    }
   ],
   "source": [
    "x_new.T"
   ]
  },
  {
   "cell_type": "code",
   "execution_count": null,
   "metadata": {},
   "outputs": [],
   "source": []
  }
 ],
 "metadata": {
  "kernelspec": {
   "display_name": "Python 3",
   "language": "python",
   "name": "python3"
  },
  "language_info": {
   "codemirror_mode": {
    "name": "ipython",
    "version": 3
   },
   "file_extension": ".py",
   "mimetype": "text/x-python",
   "name": "python",
   "nbconvert_exporter": "python",
   "pygments_lexer": "ipython3",
   "version": "3.6.8"
  }
 },
 "nbformat": 4,
 "nbformat_minor": 2
}
