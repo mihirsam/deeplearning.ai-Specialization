{
 "cells": [
  {
   "cell_type": "code",
   "execution_count": 2,
   "metadata": {},
   "outputs": [],
   "source": [
    "import numpy as np\n",
    "import random"
   ]
  },
  {
   "cell_type": "code",
   "execution_count": 5,
   "metadata": {},
   "outputs": [
    {
     "data": {
      "text/plain": [
       "array([[0.50952157, 0.89836167, 0.33013076],\n",
       "       [0.15904111, 0.40594037, 0.84785167],\n",
       "       [0.20229651, 0.85862379, 0.06296595],\n",
       "       [0.86488059, 0.44205065, 0.2514135 ]])"
      ]
     },
     "execution_count": 5,
     "metadata": {},
     "output_type": "execute_result"
    }
   ],
   "source": [
    "w = np.random.rand(4, 3)\n",
    "w"
   ]
  },
  {
   "cell_type": "code",
   "execution_count": 6,
   "metadata": {},
   "outputs": [
    {
     "data": {
      "text/plain": [
       "array([[0.77717801],\n",
       "       [0.26003401],\n",
       "       [0.43731454]])"
      ]
     },
     "execution_count": 6,
     "metadata": {},
     "output_type": "execute_result"
    }
   ],
   "source": [
    "x = np.random.rand(3, 1)\n",
    "x"
   ]
  },
  {
   "cell_type": "code",
   "execution_count": 8,
   "metadata": {},
   "outputs": [
    {
     "data": {
      "text/plain": [
       "array([[0.77396452],\n",
       "       [0.59993942],\n",
       "       [0.40802771],\n",
       "       [0.89706115]])"
      ]
     },
     "execution_count": 8,
     "metadata": {},
     "output_type": "execute_result"
    }
   ],
   "source": [
    "np.dot(w, x)"
   ]
  },
  {
   "cell_type": "code",
   "execution_count": 2,
   "metadata": {},
   "outputs": [],
   "source": [
    "A = np.random.randn(4,3)\n",
    "B = np.sum(A, axis = 1, keepdims = True)"
   ]
  },
  {
   "cell_type": "code",
   "execution_count": 3,
   "metadata": {},
   "outputs": [
    {
     "data": {
      "text/plain": [
       "(4, 1)"
      ]
     },
     "execution_count": 3,
     "metadata": {},
     "output_type": "execute_result"
    }
   ],
   "source": [
    "B.shape"
   ]
  },
  {
   "cell_type": "code",
   "execution_count": 4,
   "metadata": {},
   "outputs": [
    {
     "data": {
      "text/plain": [
       "array([[-1.99568753],\n",
       "       [ 0.70649198],\n",
       "       [ 0.29464731],\n",
       "       [-0.08929263]])"
      ]
     },
     "execution_count": 4,
     "metadata": {},
     "output_type": "execute_result"
    }
   ],
   "source": [
    "B"
   ]
  },
  {
   "cell_type": "code",
   "execution_count": 8,
   "metadata": {},
   "outputs": [
    {
     "data": {
      "text/plain": [
       "array([[3, 5, 3],\n",
       "       [4, 1, 1]])"
      ]
     },
     "execution_count": 8,
     "metadata": {},
     "output_type": "execute_result"
    }
   ],
   "source": [
    "np.random.randint(0, 10, size=(2, 3))"
   ]
  },
  {
   "cell_type": "code",
   "execution_count": 16,
   "metadata": {},
   "outputs": [
    {
     "name": "stdout",
     "output_type": "stream",
     "text": [
      "<map object at 0x00000231B4A9D4E0>\n",
      "3\n",
      "5\n",
      "7\n",
      "9\n",
      "11\n"
     ]
    },
    {
     "data": {
      "text/plain": [
       "[None, None, None, None, None]"
      ]
     },
     "execution_count": 16,
     "metadata": {},
     "output_type": "execute_result"
    }
   ],
   "source": [
    "def addition(x, y):\n",
    "    print(x+y)\n",
    "    \n",
    "listOne = [1, 2, 3, 4, 5]\n",
    "listTwo = [2, 3, 4, 5, 6]\n",
    "\n",
    "result = map(addition, listOne, listTwo)\n",
    "\n",
    "#print(type(result))\n",
    "flag = 0\n",
    "print(result)\n",
    "\n",
    "list(result)"
   ]
  },
  {
   "cell_type": "code",
   "execution_count": 24,
   "metadata": {},
   "outputs": [
    {
     "name": "stdout",
     "output_type": "stream",
     "text": [
      "[[9 5 1]\n",
      " [2 8 4]\n",
      " [4 4 7]\n",
      " [6 4 1]\n",
      " [9 4 1]] \n",
      "\n",
      "\n",
      " [[2]\n",
      " [4]\n",
      " [3]\n",
      " [7]\n",
      " [3]]\n"
     ]
    },
    {
     "data": {
      "text/plain": [
       "array([[107,  94,  49]])"
      ]
     },
     "execution_count": 24,
     "metadata": {},
     "output_type": "execute_result"
    }
   ],
   "source": [
    "x = np.random.randint(1, 10, size=(5, 3))\n",
    "w = np.random.randint(1, 10, size=(5, 1))\n",
    "\n",
    "print(x, \"\\n\\n\\n\", w)\n",
    "np.dot(w.T, x)"
   ]
  },
  {
   "cell_type": "code",
   "execution_count": 25,
   "metadata": {},
   "outputs": [
    {
     "data": {
      "text/plain": [
       "107"
      ]
     },
     "execution_count": 25,
     "metadata": {},
     "output_type": "execute_result"
    }
   ],
   "source": [
    "18 + 8 + 12 + 42 + 27"
   ]
  },
  {
   "cell_type": "code",
   "execution_count": 31,
   "metadata": {},
   "outputs": [
    {
     "name": "stdout",
     "output_type": "stream",
     "text": [
      "[[[4 4 4 6]\n",
      "  [3 5 2 8]]\n",
      "\n",
      " [[2 4 5 4]\n",
      "  [4 7 8 2]]\n",
      "\n",
      " [[4 4 6 6]\n",
      "  [9 1 3 9]]]\n",
      "(3, 2, 4)\n",
      "[[ 7  9  6 14]\n",
      " [ 6 11 13  6]\n",
      " [13  5  9 15]]\n"
     ]
    },
    {
     "data": {
      "text/plain": [
       "(3, 4)"
      ]
     },
     "execution_count": 31,
     "metadata": {},
     "output_type": "execute_result"
    }
   ],
   "source": [
    "a1 = np.random.randint(0, 10, size=(3, 2, 4))\n",
    "a2 = np.random.randint(0, 10, size=(3, 2, 4))\n",
    "\n",
    "print(a1)\n",
    "print(a1.shape)\n",
    "\n",
    "aSum = np.sum(a1, axis=1)\n",
    "print(aSum)\n",
    "aSum.shape"
   ]
  },
  {
   "cell_type": "code",
   "execution_count": 33,
   "metadata": {},
   "outputs": [
    {
     "name": "stdout",
     "output_type": "stream",
     "text": [
      "[36 36 42]\n"
     ]
    },
    {
     "data": {
      "text/plain": [
       "(3,)"
      ]
     },
     "execution_count": 33,
     "metadata": {},
     "output_type": "execute_result"
    }
   ],
   "source": [
    "aaSum = np.sum(aSum, axis=1)\n",
    "print(aaSum)\n",
    "aaSum.shape"
   ]
  },
  {
   "cell_type": "code",
   "execution_count": null,
   "metadata": {},
   "outputs": [],
   "source": []
  }
 ],
 "metadata": {
  "kernelspec": {
   "display_name": "Python 3",
   "language": "python",
   "name": "python3"
  },
  "language_info": {
   "codemirror_mode": {
    "name": "ipython",
    "version": 3
   },
   "file_extension": ".py",
   "mimetype": "text/x-python",
   "name": "python",
   "nbconvert_exporter": "python",
   "pygments_lexer": "ipython3",
   "version": "3.6.8"
  }
 },
 "nbformat": 4,
 "nbformat_minor": 2
}
